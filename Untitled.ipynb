{
 "cells": [
  {
   "cell_type": "code",
   "execution_count": 2,
   "id": "5d40c00e-8f10-48a9-81c4-7318006c3a23",
   "metadata": {},
   "outputs": [
    {
     "name": "stderr",
     "output_type": "stream",
     "text": [
      "Downloading file 'S001/S001R04.edf' from 'https://physionet.org/files/eegmmidb/1.0.0/S001/S001R04.edf' to 'C:\\Users\\hecdu\\Dropbox\\USM\\Investigación\\Electrónica\\Tareas\\Issues\\EEGraSP\\datasets\\MNE-eegbci-data\\files\\eegmmidb\\1.0.0'.\n"
     ]
    },
    {
     "name": "stdout",
     "output_type": "stream",
     "text": [
      "== Test 1: use_cache=False ==\n",
      "Data loader (cache disabled)\n"
     ]
    },
    {
     "name": "stderr",
     "output_type": "stream",
     "text": [
      "Downloading file 'S001/S001R08.edf' from 'https://physionet.org/files/eegmmidb/1.0.0/S001/S001R08.edf' to 'C:\\Users\\hecdu\\Dropbox\\USM\\Investigación\\Electrónica\\Tareas\\Issues\\EEGraSP\\datasets\\MNE-eegbci-data\\files\\eegmmidb\\1.0.0'.\n",
      "Downloading file 'S001/S001R12.edf' from 'https://physionet.org/files/eegmmidb/1.0.0/S001/S001R12.edf' to 'C:\\Users\\hecdu\\Dropbox\\USM\\Investigación\\Electrónica\\Tareas\\Issues\\EEGraSP\\datasets\\MNE-eegbci-data\\files\\eegmmidb\\1.0.0'.\n",
      "Downloading file 'S001/S001R04.edf' from 'https://physionet.org/files/eegmmidb/1.0.0/S001/S001R04.edf' to 'C:\\Users\\hecdu\\Dropbox\\USM\\Investigación\\Electrónica\\Tareas\\Issues\\EEGraSP\\datasets\\MNE-eegbci-data\\files\\eegmmidb\\1.0.0'.\n"
     ]
    },
    {
     "name": "stdout",
     "output_type": "stream",
     "text": [
      "Downloading files...\n"
     ]
    },
    {
     "name": "stderr",
     "output_type": "stream",
     "text": [
      "Downloading file 'S001/S001R08.edf' from 'https://physionet.org/files/eegmmidb/1.0.0/S001/S001R08.edf' to 'C:\\Users\\hecdu\\Dropbox\\USM\\Investigación\\Electrónica\\Tareas\\Issues\\EEGraSP\\datasets\\MNE-eegbci-data\\files\\eegmmidb\\1.0.0'.\n",
      "Downloading file 'S001/S001R12.edf' from 'https://physionet.org/files/eegmmidb/1.0.0/S001/S001R12.edf' to 'C:\\Users\\hecdu\\Dropbox\\USM\\Investigación\\Electrónica\\Tareas\\Issues\\EEGraSP\\datasets\\MNE-eegbci-data\\files\\eegmmidb\\1.0.0'.\n"
     ]
    },
    {
     "name": "stdout",
     "output_type": "stream",
     "text": [
      "Download completed in 94.45 seconds.\n",
      "Loading files...\n",
      "Download time: 223.25 seconds\n",
      "\n",
      "== Test 2: use_cache=True (default) ==\n",
      "Data loader (cache enabled)\n",
      "Using cached files.\n",
      "Loading files...\n",
      "Load from cache time: 0.18 seconds\n",
      "\n",
      "Success: Data loaded with 64 channels and 60000 samples.\n"
     ]
    }
   ],
   "source": [
    "import time\n",
    "import mne\n",
    "from eegrasp.io import load_data\n",
    "\n",
    "# Suppress verbose MNE logging\n",
    "mne.set_log_level(\"ERROR\")\n",
    "\n",
    "print(\"== Test 1: use_cache=False ==\")\n",
    "start = time.time()\n",
    "raw_1 = load_data(subject=1, runs=[4, 8, 12], use_cache=False)\n",
    "print(f\"Download time: {time.time() - start:.2f} seconds\\n\")\n",
    "\n",
    "print(\"== Test 2: use_cache=True (default) ==\")\n",
    "start = time.time()\n",
    "raw_2 = load_data(subject=1, runs=[4, 8, 12])\n",
    "print(f\"Load from cache time: {time.time() - start:.2f} seconds\\n\")\n",
    "\n",
    "# Optional: Summary check\n",
    "print(f\"Success: Data loaded with {len(raw_2.ch_names)} channels and {raw_2.n_times} samples.\")\n"
   ]
  },
  {
   "cell_type": "code",
   "execution_count": null,
   "id": "b98fe7bc-3954-4587-bc3b-673db166fe93",
   "metadata": {},
   "outputs": [],
   "source": []
  }
 ],
 "metadata": {
  "kernelspec": {
   "display_name": "Python 3.13 (EEGraSP)",
   "language": "python",
   "name": "python313"
  },
  "language_info": {
   "codemirror_mode": {
    "name": "ipython",
    "version": 3
   },
   "file_extension": ".py",
   "mimetype": "text/x-python",
   "name": "python",
   "nbconvert_exporter": "python",
   "pygments_lexer": "ipython3",
   "version": "3.13.2"
  }
 },
 "nbformat": 4,
 "nbformat_minor": 5
}
